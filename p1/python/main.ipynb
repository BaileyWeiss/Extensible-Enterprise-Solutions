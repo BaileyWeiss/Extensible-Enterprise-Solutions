# Pandas = "Python Data Analysis Library"
# Be sure to: pip install pandas-datareader
import datetime as dt
import pandas_datareader as pdr
import matplotlib.pyplot as plt
from matplotlib import style

start = dt.datetime(2010, 1, 1)
# end = dt.datetime(2018, 10, 15)
end = dt.datetime.now()
# for "end": *must* use Python function for current day/time

# Federal Reserve Economic Data (FRED): https://fred.stlouisfed.org/
# Categories: https://fred.stlouidfed.org/categories
# GDP = Gross Domestic Product (https://fred.stlouisfed.org/series/GDP)
# DJIA = Dow Jones Industrial Average (https://fred.stlouisfed.org/series/DJIA)
# SP500 = S&P 500 (https://fred.stlouisfed.org/series/SP500)

# Read data into Pandas DataFrame
# single series
# df = pdr.DataReader("GDP", "fred", start, end)

# multiple series
df = pdr.DataReader(["DJIA", "SP500"], "fred", start, end)

print("\nPrint number of records: ")
# statement goes here...
print(len(df))

# Why is it important to run the following print statement...
print(df.columns)

print("\nPrint data frame: ")
print(df)  # Note: for efficiency, only prints 60--not *all* records

print("\nPrint first five lines: ")
# Note: "Date" is lower than the other columns as it is treated as an index
# statement goes here...


print("\nPrint last five lines: ")
# statement goes here...

print("\nPrint first 2 lines: ")
# statement goes here...

print("\nPrint last 2 lines: ")
# statement goes here...

# Research what these styles do!
# style.use('fivethirtyeight')
# compare with...
style.use('ggplot')

df['DJIA'].plot()
df['SP500'].plot()
plt.legend()
plt.show()
