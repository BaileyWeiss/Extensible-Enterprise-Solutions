{
 "cells": [
  {
   "cell_type": "code",
   "execution_count": null,
   "id": "31c03cef",
   "metadata": {},
   "outputs": [],
   "source": [
    "# Developer: Bailey Weiss\n",
    "# Course: LIS4369\n",
    "# Semester Fall 2021"
   ]
  },
  {
   "cell_type": "code",
   "execution_count": 15,
   "id": "80a769e1",
   "metadata": {},
   "outputs": [
    {
     "name": "stdout",
     "output_type": "stream",
     "text": [
      "Tip Calculator\n",
      "\n",
      "User Input:\n",
      "Cost of Meal: 1000\n",
      "Tax percent: .05\n",
      "Tip percent: .2\n",
      "Party number: 6\n"
     ]
    }
   ],
   "source": [
    "print(\"Tip Calculator\")\n",
    "\n",
    "print(\"\\nUser Input:\")\n",
    "meal_cost = float(input(\"Cost of Meal: \"))\n",
    "tax_percent = float(input(\"Tax percent: \"))\n",
    "tip_percent= float(input(\"Tip percent: \"))\n",
    "people_num = int(input(\"Party number: \"))\n",
    " "
   ]
  },
  {
   "cell_type": "code",
   "execution_count": 16,
   "id": "0d799afb",
   "metadata": {},
   "outputs": [],
   "source": [
    "#calculate tax, tip and total\n",
    "tax_amount = round(meal_cost * (tax_percent / 100), 2)\n",
    "due_amount = round(meal_cost + tax_amount, 2)\n",
    "tip_amount = round(due_amount * (tip_percent / 100), 2)\n",
    "total = round(meal_cost + tax_amount + tip_amount, 2)\n",
    "split = round(total / people_num, 2)\n"
   ]
  },
  {
   "cell_type": "code",
   "execution_count": 18,
   "id": "20f6fd56",
   "metadata": {
    "scrolled": true
   },
   "outputs": [
    {
     "name": "stdout",
     "output_type": "stream",
     "text": [
      "\n",
      "Program Output: \n",
      "Subtotal:\t $1,000.00\n",
      "Tax:\t $0.50\n",
      "Amount:\t $1,000.50\n",
      "Gratuity:\t $2.00\n",
      "Total:\t\t $1,002.50\n",
      "Split (6):\t $167.08\n"
     ]
    }
   ],
   "source": [
    "#display results\n",
    "print(\"\\nProgram Output: \")\n",
    "print(\"Subtotal:\\t\", \"${0:,.2f}\".format(meal_cost))\n",
    "print(\"Tax:\\t\", \"${0:,.2f}\".format(tax_amount))\n",
    "print(\"Amount:\\t\", \"${0:,.2f}\".format(due_amount))\n",
    "print(\"Gratuity:\\t\", \"${0:,.2f}\".format(tip_amount))\n",
    "print(\"Total:\\t\\t\", \"${0:,.2f}\".format(total))\n",
    "print(\"Split \" + \"(\" + str(people_num) + \"):\\t\", \"${0:,.2f}\".format(split))"
   ]
  }
 ],
 "metadata": {
  "kernelspec": {
   "display_name": "Python 3",
   "language": "python",
   "name": "python3"
  }
 },
 "nbformat": 4,
 "nbformat_minor": 5
}
