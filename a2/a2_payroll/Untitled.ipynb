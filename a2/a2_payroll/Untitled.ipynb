{
 "cells": [
  {
   "cell_type": "code",
   "execution_count": 1,
   "id": "b6912b0a",
   "metadata": {},
   "outputs": [],
   "source": [
    "def intro():\n",
    "\tprint(\"Payroll Calculator\")\n",
    "\n",
    "\n",
    "# Developer: Bailey Weiss\n",
    "# Course: LIS4369\n",
    "# Semester Fall 2021\n",
    "\n",
    "def get_requirements():\n",
    "\tprint(\"Program Requirements:\")\n",
    "\tprint(\"1. Must use float data type for user input.\")\n",
    "\tprint(\"2. Overtime rate: 1.5 times hourly rate (hours over 40)\")\n",
    "\tprint(\"3. Holiday rate: 2.0 times hourly rate (all holiday hours)\")\n",
    "\tprint(\"4. Must format currency with dollar sign, and round to two decimal places.\")\n",
    "\tprint(\"5. Create at least three functions that are called by the program:\")\n",
    "\tprint(\"\\ta. main(): calls at least two other functions\")\n",
    "\tprint(\"\\tb. get_requirements(): displays the program requirements.\")\n",
    "\tprint(\"\\tc. calculate_payroll(): calculates an individual one-week paycheck.\")\n",
    "\n"
   ]
  },
  {
   "cell_type": "code",
   "execution_count": 2,
   "id": "ad088a62",
   "metadata": {},
   "outputs": [],
   "source": [
    "def calculate_payroll(work_hours, holiday_hours, hourly):\n",
    "\tleft_over = 0\n",
    "\tbase = 0\n",
    "\tif work_hours > 40:\n",
    "\t\tbase = 40 * hourly\n",
    "\t\tleft_over = work_hours - 40\n",
    "\telif work_hours <= 40:\n",
    "\t\tbase = work_hours * hourly\n",
    "\t\tleft_over = 0\n",
    "\tovertime = left_over * hourly * 1.5\n",
    "\n",
    "\tholiday_pay = holiday_hours * hourly * 2.0\n",
    "\tgross = base + overtime + holiday_pay\n",
    "\n",
    "\tformatted_base = \"{:.2f}\".format(base)\n",
    "\tformatted_overtime = \"{:.2f}\".format(overtime)\n",
    "\tformatted_holiday_pay = \"{:.2f}\".format(holiday_pay)\n",
    "\tformatted_gross = \"{:.2f}\".format(gross)\n",
    "\n",
    "\tprint(\"Output:\")\n",
    "\tprint(\"Base: \", formatted_base)\n",
    "\tprint(\"Overtime: \", formatted_overtime)\n",
    "\tprint(\"Holiday: \", formatted_holiday_pay)\n",
    "\tprint(\"Gross: \", formatted_gross)\n",
    "\n"
   ]
  },
  {
   "cell_type": "code",
   "execution_count": 3,
   "id": "cf3546e6",
   "metadata": {},
   "outputs": [
    {
     "name": "stdout",
     "output_type": "stream",
     "text": [
      "Payroll Calculator\n",
      "Program Requirements:\n",
      "1. Must use float data type for user input.\n",
      "2. Overtime rate: 1.5 times hourly rate (hours over 40)\n",
      "3. Holiday rate: 2.0 times hourly rate (all holiday hours)\n",
      "4. Must format currency with dollar sign, and round to two decimal places.\n",
      "5. Create at least three functions that are called by the program:\n",
      "\ta. main(): calls at least two other functions\n",
      "\tb. get_requirements(): displays the program requirements.\n",
      "\tc. calculate_payroll(): calculates an individual one-week paycheck.\n",
      "\n",
      "Input:\n",
      "Enter hours worked: 45\n",
      "Enter holiday hours: 4\n",
      "Enter hourly pay rate: 16\n",
      "Output:\n",
      "Base:  640.00\n",
      "Overtime:  120.00\n",
      "Holiday:  128.00\n",
      "Gross:  888.00\n"
     ]
    }
   ],
   "source": [
    "def main():\n",
    "\tintro()\n",
    "\tget_requirements()\n",
    "\tprint(\"\\nInput:\")\n",
    "\twork_hours = float(input(\"Enter hours worked: \"))\n",
    "\tholiday_hours = float(input(\"Enter holiday hours: \"))\n",
    "\thourly = float(input(\"Enter hourly pay rate: \"))\n",
    "\n",
    "\tcalculate_payroll(work_hours, holiday_hours, hourly)\n",
    "\n",
    "\treturn 0\n",
    "\n",
    "\n",
    "if __name__ == \"__main__\":\n",
    "\tmain()\n"
   ]
  },
  {
   "cell_type": "code",
   "execution_count": null,
   "id": "b0b43ac9",
   "metadata": {},
   "outputs": [],
   "source": []
  }
 ],
 "metadata": {
  "kernelspec": {
   "display_name": "Python 3",
   "language": "python",
   "name": "python3"
  },
  "language_info": {
   "codemirror_mode": {
    "name": "ipython",
    "version": 3
   },
   "file_extension": ".py",
   "mimetype": "text/x-python",
   "name": "python",
   "nbconvert_exporter": "python",
   "pygments_lexer": "ipython3",
   "version": "3.8.8"
  }
 },
 "nbformat": 4,
 "nbformat_minor": 5
}
